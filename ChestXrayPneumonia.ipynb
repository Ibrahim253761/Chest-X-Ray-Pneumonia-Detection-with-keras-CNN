{
  "cells": [
    {
      "metadata": {
        "_uuid": "8f2839f25d086af736a60e9eeb907d3b93b6e0e5",
        "_cell_guid": "b1076dfc-b9ad-4769-8c92-a6c4dae69d19",
        "trusted": true
      },
      "cell_type": "markdown",
      "source": "*Import libraries (tensorflow backend)*"
    },
    {
      "metadata": {
        "trusted": true,
        "_uuid": "7e5a5d2707651204c12b7b985005e4c07c8e3cdf",
        "collapsed": true
      },
      "cell_type": "code",
      "source": "from keras.models import Sequential\nfrom keras.layers import Conv2D\nfrom keras.layers import MaxPooling2D\nfrom keras.layers import Flatten\nfrom keras.layers import Dense\nfrom keras.preprocessing.image import ImageDataGenerator\nimport matplotlib.pyplot as plt\nimport numpy as np",
      "execution_count": null,
      "outputs": []
    },
    {
      "metadata": {
        "_uuid": "d04173fb166d7fa34e7ed0bca04cafe1cb2009f9"
      },
      "cell_type": "markdown",
      "source": "*Build the CNN*"
    },
    {
      "metadata": {
        "trusted": true,
        "_uuid": "5ed6c2c4c2b18d12169a6fc7fe8bbd26ff518f71",
        "collapsed": true
      },
      "cell_type": "code",
      "source": "classifier = Sequential()",
      "execution_count": null,
      "outputs": []
    },
    {
      "metadata": {
        "_uuid": "4da0cba74111d65aef1e92595d25c05c78d0a8dd"
      },
      "cell_type": "markdown",
      "source": "***Convolution***"
    },
    {
      "metadata": {
        "trusted": true,
        "_uuid": "4b230b86242e4b8e7d886ac43b07e5c5f2d265d8",
        "collapsed": true
      },
      "cell_type": "code",
      "source": "classifier.add(Conv2D(32, (3, 3), activation=\"relu\", input_shape=(64, 64, 3)))",
      "execution_count": null,
      "outputs": []
    },
    {
      "metadata": {
        "_cell_guid": "79c7e3d0-c299-4dcb-8224-4455121ee9b0",
        "collapsed": true,
        "_uuid": "d629ff2d2480ee46fbb7e2d37f6b5fab8052498a",
        "trusted": false
      },
      "cell_type": "markdown",
      "source": "Choose 32 feature detectors and an input shape of 3D image of 64x64 pixels"
    },
    {
      "metadata": {
        "_uuid": "4ce768ba33f2f5590a6bd4c493b9af8ef3d157bb"
      },
      "cell_type": "markdown",
      "source": "***Pooling***"
    },
    {
      "metadata": {
        "trusted": true,
        "_uuid": "776e4a23061b1ec83382eac7dd76929605ee6b0e",
        "collapsed": true
      },
      "cell_type": "code",
      "source": "classifier.add(MaxPooling2D(pool_size = (2, 2)))",
      "execution_count": null,
      "outputs": []
    },
    {
      "metadata": {
        "_uuid": "b14dcd4c6381afd0aaed7cb29e66b27324532636"
      },
      "cell_type": "markdown",
      "source": "Pooling is made with a 2x2 array "
    },
    {
      "metadata": {
        "_uuid": "04b63d2ca0d4ddafa0a60104b7b88327044c1a16"
      },
      "cell_type": "markdown",
      "source": "Add 2nd convolutional layer with the same structure as the 1st to improve predictions"
    },
    {
      "metadata": {
        "trusted": true,
        "_uuid": "6811b3804914c222930dc7bbf8c98d46a4d83668",
        "collapsed": true
      },
      "cell_type": "code",
      "source": "classifier.add(Conv2D(32, (3, 3), activation=\"relu\"))\nclassifier.add(MaxPooling2D(pool_size = (2, 2)))",
      "execution_count": null,
      "outputs": []
    },
    {
      "metadata": {
        "_uuid": "ef4f6a1aa4ace2bd1a1b3c8799d007ff84dadde5"
      },
      "cell_type": "markdown",
      "source": "***Flattening***"
    },
    {
      "metadata": {
        "trusted": true,
        "_uuid": "9a4ea87bc217a5c25c759f4ebad77fbb1a3672cc",
        "collapsed": true
      },
      "cell_type": "code",
      "source": "classifier.add(Flatten())",
      "execution_count": null,
      "outputs": []
    },
    {
      "metadata": {
        "_uuid": "1e0a776799365308f1f2befa25f62a9e3c50e4fd"
      },
      "cell_type": "markdown",
      "source": "***Full Connection***"
    },
    {
      "metadata": {
        "trusted": true,
        "_uuid": "7dde69f6f59dea5d596411a4f2481941221134e3",
        "collapsed": true
      },
      "cell_type": "code",
      "source": "classifier.add(Dense(activation = 'relu', units = 128))\nclassifier.add(Dense(activation = 'sigmoid', units = 1))",
      "execution_count": null,
      "outputs": []
    },
    {
      "metadata": {
        "_uuid": "b6bdaac45213b951b9d0d165c531bc550dccb1d4"
      },
      "cell_type": "markdown",
      "source": "CNN has 128 nodes in the first layer of the ANN that's connected in the backbone with rectifier activation function.  We then add sigmoid activation function because we have binary outcome with 1 node in the output layer."
    },
    {
      "metadata": {
        "trusted": true,
        "collapsed": true,
        "_uuid": "5e6977aa00467bd8d368cc58d6512152570c99cc"
      },
      "cell_type": "code",
      "source": "",
      "execution_count": null,
      "outputs": []
    },
    {
      "metadata": {
        "_uuid": "694426ce4dccac8b432323f831c6f77271b80801"
      },
      "cell_type": "markdown",
      "source": "***Compile the CNN***"
    },
    {
      "metadata": {
        "trusted": true,
        "_uuid": "cef2f3cf2ddbec3d1621b66603154fd24c845c80",
        "collapsed": true
      },
      "cell_type": "code",
      "source": "classifier.compile(optimizer = 'adam', loss = 'binary_crossentropy', metrics = ['accuracy'])",
      "execution_count": null,
      "outputs": []
    },
    {
      "metadata": {
        "_uuid": "b22971015a623f46be706ebdaecf3aa6dd9c2671"
      },
      "cell_type": "markdown",
      "source": "adam is for stohastic gradient descent and binary crossentropy for logarithmic loss for binary outcomes"
    },
    {
      "metadata": {
        "_uuid": "81a6b69281f699afe31f472facc14e35488af0f6"
      },
      "cell_type": "markdown",
      "source": "***Image Augmentation***"
    },
    {
      "metadata": {
        "trusted": true,
        "_uuid": "057f59b843d09d8b756244302518de928fb9c574",
        "collapsed": true
      },
      "cell_type": "code",
      "source": "train_datagen = ImageDataGenerator(rescale = 1./255,\n                                   shear_range = 0.2,\n                                   zoom_range = 0.2,\n                                   horizontal_flip = True)",
      "execution_count": null,
      "outputs": []
    },
    {
      "metadata": {
        "_uuid": "632978357335d52510e471e74260b4ccb9e1efed"
      },
      "cell_type": "markdown",
      "source": "Apply several transformations to train the model in a better significant way, keras documentation provides all the required information for augmentation"
    },
    {
      "metadata": {
        "trusted": true,
        "_uuid": "fa69460a019c89d6b960a81cf9146090fcf0a090",
        "collapsed": true
      },
      "cell_type": "code",
      "source": "test_datagen = ImageDataGenerator(rescale = 1./255)",
      "execution_count": null,
      "outputs": []
    },
    {
      "metadata": {
        "trusted": true,
        "_uuid": "60b4844fd42b597220c30736bb8d9ca961da3d18",
        "collapsed": true
      },
      "cell_type": "code",
      "source": "training_set = train_datagen.flow_from_directory('../input/chest_xray/chest_xray/train',\n                                                 target_size = (64, 64),\n                                                 batch_size = 32,\n                                                 class_mode = 'binary')\n\ntest_set = test_datagen.flow_from_directory('../input/chest_xray/chest_xray/test',\n                                            target_size = (64, 64),\n                                            batch_size = 32,\n                                            class_mode = 'binary')",
      "execution_count": null,
      "outputs": []
    },
    {
      "metadata": {
        "_uuid": "c96af2c7eaece4843d411739a6b82c17fe047f8c"
      },
      "cell_type": "markdown",
      "source": "Target size is 64x64. This is the size of the images the model is trained above and size of the batches in which random samples of our images will be included. Class mode is binary because dependent variable is binary."
    },
    {
      "metadata": {
        "_uuid": "494f36581178f0bafc8521d45fcf09e45a6c5d97"
      },
      "cell_type": "markdown",
      "source": "classifier.summary()"
    },
    {
      "metadata": {
        "trusted": true,
        "_uuid": "6e3a8dc5da06a7c1f4d15bd29daca5921d6895c1",
        "collapsed": true
      },
      "cell_type": "code",
      "source": "history = classifier.fit_generator(training_set,\n                         steps_per_epoch = 163,\n                         epochs = 10,\n                         validation_data = test_set,\n                         validation_steps = 624)",
      "execution_count": null,
      "outputs": []
    },
    {
      "metadata": {
        "_uuid": "281f25c775f1ec6864a38ab940de5afeb91fbe97"
      },
      "cell_type": "markdown",
      "source": ""
    },
    {
      "metadata": {
        "trusted": true,
        "_uuid": "d15c1cbae90bac4af6158637a440b4b6a58af871",
        "collapsed": true
      },
      "cell_type": "code",
      "source": "#Accuracy\nprint(history.history.keys())\nplt.plot(history.history['acc'])\nplt.plot(history.history['val_acc'])\nplt.title('Model Accuracy')\nplt.ylabel('Accuracy')\nplt.xlabel('Epoch')\nplt.legend(['Training set', 'Test set'], loc='upper left')\nplt.show()\n\n#Loss\nplt.plot(history.history['loss'])\nplt.plot(history.history['val_loss'])\nplt.title('Loss')\nplt.ylabel('Loss')\nplt.xlabel('Epoch')\nplt.legend(['Training set', 'Test set'], loc='upper left')\nplt.show()\n\n\n\n\n\n",
      "execution_count": null,
      "outputs": []
    },
    {
      "metadata": {
        "_uuid": "a2636a82616970d3115d7b81a4fff59dc14d251d"
      },
      "cell_type": "markdown",
      "source": ""
    },
    {
      "metadata": {
        "_uuid": "24bc46182ee3b2124188aa4c83a5b5eae9b48c3c"
      },
      "cell_type": "markdown",
      "source": ""
    }
  ],
  "metadata": {
    "kernelspec": {
      "display_name": "Python 3",
      "language": "python",
      "name": "python3"
    },
    "language_info": {
      "name": "python",
      "version": "3.6.6",
      "mimetype": "text/x-python",
      "codemirror_mode": {
        "name": "ipython",
        "version": 3
      },
      "pygments_lexer": "ipython3",
      "nbconvert_exporter": "python",
      "file_extension": ".py"
    }
  },
  "nbformat": 4,
  "nbformat_minor": 1
}